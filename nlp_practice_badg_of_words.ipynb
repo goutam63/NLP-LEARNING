{
  "nbformat": 4,
  "nbformat_minor": 0,
  "metadata": {
    "kernelspec": {
      "language": "python",
      "display_name": "Python 3",
      "name": "python3"
    },
    "language_info": {
      "name": "python",
      "version": "3.7.10",
      "mimetype": "text/x-python",
      "codemirror_mode": {
        "name": "ipython",
        "version": 3
      },
      "pygments_lexer": "ipython3",
      "nbconvert_exporter": "python",
      "file_extension": ".py"
    },
    "colab": {
      "name": "nlp-practice-badg-of-words.ipynb",
      "provenance": [],
      "include_colab_link": true
    }
  },
  "cells": [
    {
      "cell_type": "markdown",
      "metadata": {
        "id": "view-in-github",
        "colab_type": "text"
      },
      "source": [
        "<a href=\"https://colab.research.google.com/github/goutam63/NLP-LEARNING/blob/main/nlp_practice_badg_of_words.ipynb\" target=\"_parent\"><img src=\"https://colab.research.google.com/assets/colab-badge.svg\" alt=\"Open In Colab\"/></a>"
      ]
    },
    {
      "cell_type": "code",
      "metadata": {
        "execution": {
          "iopub.status.busy": "2021-05-22T04:13:27.904185Z",
          "iopub.execute_input": "2021-05-22T04:13:27.904521Z",
          "iopub.status.idle": "2021-05-22T04:13:27.909438Z",
          "shell.execute_reply.started": "2021-05-22T04:13:27.904492Z",
          "shell.execute_reply": "2021-05-22T04:13:27.908233Z"
        },
        "trusted": true,
        "id": "FNJS8PWTwLKm"
      },
      "source": [
        "import re\n",
        "import nltk\n",
        "from nltk.stem import PorterStemmer\n",
        "from nltk.stem import WordNetLemmatizer\n",
        "from nltk.corpus import stopwords"
      ],
      "execution_count": null,
      "outputs": []
    },
    {
      "cell_type": "code",
      "metadata": {
        "execution": {
          "iopub.status.busy": "2021-05-22T04:13:29.682307Z",
          "iopub.execute_input": "2021-05-22T04:13:29.682708Z",
          "iopub.status.idle": "2021-05-22T04:13:29.690291Z",
          "shell.execute_reply.started": "2021-05-22T04:13:29.682676Z",
          "shell.execute_reply": "2021-05-22T04:13:29.689240Z"
        },
        "trusted": true,
        "id": "57qTLy6XwLK2"
      },
      "source": [
        "paragrapha=\"I have three visions for India. In 3000 years of our history people from all over the world have come and invaded us, captured our lands, conquered our minds. From Alexander onwards the Greeks, the Turks, the Moguls, the Portuguese, the British, the French, the Dutch, all of them came and looted us, took over what was ours. Yet we have not done this to any other nation. We have not conquered anyone. We have not grabbed their land, their culture and their history and tried to enforce our way of life on them. Why? Because we respect the freedom of others. That is why my FIRST VISION is that of FREEDOM. I believe that India got its first vision of this in 1857, when we started the war of Independence. It is this freedom that we must protect and nurture and build on. If we are not free, no one will respect us.We have 10 percent growth rate in most areas. Our poverty levels are falling. Our achievements are being globally recognised today. Yet we lack the self-confidence to see ourselves as a developed nation, self-reliant and self-assured. Isn’t this incorrect? MY SECOND VISION for India is DEVELOPMENT. For fifty years we have been a developing nation. It is time we see ourselves as a developed nation. We are among top five nations in the world in terms of GDP.I have a THIRD VISION. India must stand up to the world. Because I believe that unless India stands up to the world, no one will respect us. Only strength respects strength. We must be strong not only as a military power but also as an economic power. Both must go hand-in-hand. My good fortune was to have worked with three great minds. Dr.Vikram Sarabhai, of the Dept. of Space, Professor Satish Dhawan, who succeeded him and Dr. Brahm Prakash, father of nuclear material. I was lucky to have worked with all three of them closely and consider this the great opportunity of my life.I was in Hyderabad giving this lecture, when a 14 year-old girl asked me for my autograph. I asked her what her goal in life is. She replied: I want to live in a developed India. For her, you and I will have to build this developed India. You must proclaim India is not an underdeveloped nation; it is a highly developed nation.\""
      ],
      "execution_count": null,
      "outputs": []
    },
    {
      "cell_type": "code",
      "metadata": {
        "execution": {
          "iopub.status.busy": "2021-05-22T04:13:31.298908Z",
          "iopub.execute_input": "2021-05-22T04:13:31.299256Z",
          "iopub.status.idle": "2021-05-22T04:13:31.368249Z",
          "shell.execute_reply.started": "2021-05-22T04:13:31.299226Z",
          "shell.execute_reply": "2021-05-22T04:13:31.367429Z"
        },
        "trusted": true,
        "id": "UNnD4mt6wLK6"
      },
      "source": [
        "ps=PorterStemmer()\n",
        "sentences=nltk.sent_tokenize(paragrapha)\n",
        "corpus=[]\n",
        "for i in range(len(sentences)):\n",
        "    review=re.sub('[^a-zA-Z]',' ',sentences[i])\n",
        "    review=review.lower()\n",
        "    review=review.split()\n",
        "    review=[ps.stem(word) for word in words if word not in set(stopwords.words('english'))]\n",
        "    review=' '.join(review)\n",
        "    corpus.append(review)"
      ],
      "execution_count": null,
      "outputs": []
    },
    {
      "cell_type": "code",
      "metadata": {
        "execution": {
          "iopub.status.busy": "2021-05-22T04:16:35.960637Z",
          "iopub.execute_input": "2021-05-22T04:16:35.960988Z",
          "iopub.status.idle": "2021-05-22T04:16:35.966744Z",
          "shell.execute_reply.started": "2021-05-22T04:16:35.960959Z",
          "shell.execute_reply": "2021-05-22T04:16:35.965728Z"
        },
        "trusted": true,
        "id": "swAGfhSkwLK9"
      },
      "source": [
        "from sklearn.feature_extraction. text import CountVectorizer\n",
        "cv=CountVectorizer()\n",
        "X=cv.fit_transform(corpus).toarray()"
      ],
      "execution_count": null,
      "outputs": []
    },
    {
      "cell_type": "code",
      "metadata": {
        "execution": {
          "iopub.status.busy": "2021-05-22T04:16:44.003005Z",
          "iopub.execute_input": "2021-05-22T04:16:44.003354Z",
          "iopub.status.idle": "2021-05-22T04:16:44.009239Z",
          "shell.execute_reply.started": "2021-05-22T04:16:44.003325Z",
          "shell.execute_reply": "2021-05-22T04:16:44.008578Z"
        },
        "trusted": true,
        "id": "DiOid7cDwLK_",
        "outputId": "4b101697-3a30-4c10-8d02-51dc930e61a9"
      },
      "source": [
        "X"
      ],
      "execution_count": null,
      "outputs": [
        {
          "output_type": "execute_result",
          "data": {
            "text/plain": [
              "array([[1, 1, 1, 1, 2, 1, 1, 1],\n",
              "       [1, 1, 1, 1, 2, 1, 1, 1],\n",
              "       [1, 1, 1, 1, 2, 1, 1, 1],\n",
              "       [1, 1, 1, 1, 2, 1, 1, 1],\n",
              "       [1, 1, 1, 1, 2, 1, 1, 1],\n",
              "       [1, 1, 1, 1, 2, 1, 1, 1],\n",
              "       [1, 1, 1, 1, 2, 1, 1, 1],\n",
              "       [1, 1, 1, 1, 2, 1, 1, 1],\n",
              "       [1, 1, 1, 1, 2, 1, 1, 1],\n",
              "       [1, 1, 1, 1, 2, 1, 1, 1],\n",
              "       [1, 1, 1, 1, 2, 1, 1, 1],\n",
              "       [1, 1, 1, 1, 2, 1, 1, 1],\n",
              "       [1, 1, 1, 1, 2, 1, 1, 1],\n",
              "       [1, 1, 1, 1, 2, 1, 1, 1],\n",
              "       [1, 1, 1, 1, 2, 1, 1, 1],\n",
              "       [1, 1, 1, 1, 2, 1, 1, 1],\n",
              "       [1, 1, 1, 1, 2, 1, 1, 1],\n",
              "       [1, 1, 1, 1, 2, 1, 1, 1],\n",
              "       [1, 1, 1, 1, 2, 1, 1, 1],\n",
              "       [1, 1, 1, 1, 2, 1, 1, 1],\n",
              "       [1, 1, 1, 1, 2, 1, 1, 1],\n",
              "       [1, 1, 1, 1, 2, 1, 1, 1],\n",
              "       [1, 1, 1, 1, 2, 1, 1, 1],\n",
              "       [1, 1, 1, 1, 2, 1, 1, 1],\n",
              "       [1, 1, 1, 1, 2, 1, 1, 1],\n",
              "       [1, 1, 1, 1, 2, 1, 1, 1],\n",
              "       [1, 1, 1, 1, 2, 1, 1, 1],\n",
              "       [1, 1, 1, 1, 2, 1, 1, 1],\n",
              "       [1, 1, 1, 1, 2, 1, 1, 1],\n",
              "       [1, 1, 1, 1, 2, 1, 1, 1],\n",
              "       [1, 1, 1, 1, 2, 1, 1, 1],\n",
              "       [1, 1, 1, 1, 2, 1, 1, 1],\n",
              "       [1, 1, 1, 1, 2, 1, 1, 1]])"
            ]
          },
          "metadata": {
            "tags": []
          },
          "execution_count": 50
        }
      ]
    },
    {
      "cell_type": "code",
      "metadata": {
        "id": "ScxaoAOwwLL5"
      },
      "source": [
        ""
      ],
      "execution_count": null,
      "outputs": []
    }
  ]
}