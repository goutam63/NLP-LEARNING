{
  "nbformat": 4,
  "nbformat_minor": 0,
  "metadata": {
    "kernelspec": {
      "language": "python",
      "display_name": "Python 3",
      "name": "python3"
    },
    "language_info": {
      "name": "python",
      "version": "3.7.10",
      "mimetype": "text/x-python",
      "codemirror_mode": {
        "name": "ipython",
        "version": 3
      },
      "pygments_lexer": "ipython3",
      "nbconvert_exporter": "python",
      "file_extension": ".py"
    },
    "colab": {
      "name": "nlp-practice-notebook.ipynb",
      "provenance": [],
      "include_colab_link": true
    }
  },
  "cells": [
    {
      "cell_type": "markdown",
      "metadata": {
        "id": "view-in-github",
        "colab_type": "text"
      },
      "source": [
        "<a href=\"https://colab.research.google.com/github/goutam63/NLP-LEARNING/blob/main/nlp_practice_notebook.ipynb\" target=\"_parent\"><img src=\"https://colab.research.google.com/assets/colab-badge.svg\" alt=\"Open In Colab\"/></a>"
      ]
    },
    {
      "cell_type": "code",
      "metadata": {
        "execution": {
          "iopub.status.busy": "2021-05-22T03:53:56.450258Z",
          "iopub.execute_input": "2021-05-22T03:53:56.450626Z",
          "iopub.status.idle": "2021-05-22T03:53:56.455050Z",
          "shell.execute_reply.started": "2021-05-22T03:53:56.450576Z",
          "shell.execute_reply": "2021-05-22T03:53:56.453735Z"
        },
        "trusted": true,
        "id": "YSnvvVb1xktB"
      },
      "source": [
        "import nltk \n",
        "#nltk.download()\n",
        "from nltk.stem import PorterStemmer\n",
        "from nltk.corpus import stopwords"
      ],
      "execution_count": null,
      "outputs": []
    },
    {
      "cell_type": "code",
      "metadata": {
        "execution": {
          "iopub.status.busy": "2021-05-22T03:53:56.468904Z",
          "iopub.execute_input": "2021-05-22T03:53:56.469255Z",
          "iopub.status.idle": "2021-05-22T03:53:56.474094Z",
          "shell.execute_reply.started": "2021-05-22T03:53:56.469226Z",
          "shell.execute_reply": "2021-05-22T03:53:56.472948Z"
        },
        "trusted": true,
        "id": "FyvlWx9GxktR"
      },
      "source": [
        "paragrapha=\"I have three visions for India. In 3000 years of our history people from all over the world have come and invaded us, captured our lands, conquered our minds. From Alexander onwards the Greeks, the Turks, the Moguls, the Portuguese, the British, the French, the Dutch, all of them came and looted us, took over what was ours. Yet we have not done this to any other nation. We have not conquered anyone. We have not grabbed their land, their culture and their history and tried to enforce our way of life on them. Why? Because we respect the freedom of others. That is why my FIRST VISION is that of FREEDOM. I believe that India got its first vision of this in 1857, when we started the war of Independence. It is this freedom that we must protect and nurture and build on. If we are not free, no one will respect us.We have 10 percent growth rate in most areas. Our poverty levels are falling. Our achievements are being globally recognised today. Yet we lack the self-confidence to see ourselves as a developed nation, self-reliant and self-assured. Isn’t this incorrect? MY SECOND VISION for India is DEVELOPMENT. For fifty years we have been a developing nation. It is time we see ourselves as a developed nation. We are among top five nations in the world in terms of GDP.I have a THIRD VISION. India must stand up to the world. Because I believe that unless India stands up to the world, no one will respect us. Only strength respects strength. We must be strong not only as a military power but also as an economic power. Both must go hand-in-hand. My good fortune was to have worked with three great minds. Dr.Vikram Sarabhai, of the Dept. of Space, Professor Satish Dhawan, who succeeded him and Dr. Brahm Prakash, father of nuclear material. I was lucky to have worked with all three of them closely and consider this the great opportunity of my life.I was in Hyderabad giving this lecture, when a 14 year-old girl asked me for my autograph. I asked her what her goal in life is. She replied: I want to live in a developed India. For her, you and I will have to build this developed India. You must proclaim India is not an underdeveloped nation; it is a highly developed nation.\""
      ],
      "execution_count": null,
      "outputs": []
    },
    {
      "cell_type": "code",
      "metadata": {
        "execution": {
          "iopub.status.busy": "2021-05-22T03:53:56.476515Z",
          "iopub.execute_input": "2021-05-22T03:53:56.476848Z",
          "iopub.status.idle": "2021-05-22T03:53:56.506747Z",
          "shell.execute_reply.started": "2021-05-22T03:53:56.476817Z",
          "shell.execute_reply": "2021-05-22T03:53:56.505725Z"
        },
        "trusted": true,
        "id": "j3-M6L6pxktV"
      },
      "source": [
        "sentences=nltk.sent_tokenize(paragrapha)\n",
        "#word=nltk.word_tokenize(paragrapha)"
      ],
      "execution_count": null,
      "outputs": []
    },
    {
      "cell_type": "code",
      "metadata": {
        "execution": {
          "iopub.status.busy": "2021-05-22T03:53:56.508216Z",
          "iopub.execute_input": "2021-05-22T03:53:56.508514Z",
          "iopub.status.idle": "2021-05-22T03:53:56.512839Z",
          "shell.execute_reply.started": "2021-05-22T03:53:56.508485Z",
          "shell.execute_reply": "2021-05-22T03:53:56.511487Z"
        },
        "trusted": true,
        "id": "Xr4G0vp6xktX"
      },
      "source": [
        "stemmer=PorterStemmer()"
      ],
      "execution_count": null,
      "outputs": []
    },
    {
      "cell_type": "code",
      "metadata": {
        "execution": {
          "iopub.status.busy": "2021-05-22T03:53:56.515483Z",
          "iopub.execute_input": "2021-05-22T03:53:56.515935Z",
          "iopub.status.idle": "2021-05-22T03:53:56.614539Z",
          "shell.execute_reply.started": "2021-05-22T03:53:56.515892Z",
          "shell.execute_reply": "2021-05-22T03:53:56.613473Z"
        },
        "trusted": true,
        "id": "lvEdCyQXxktZ"
      },
      "source": [
        "for i in range(len(sentences)):\n",
        "    words=nltk.word_tokenize(sentences[i])\n",
        "    words=[stemmer.stem(word) for word in words if word not in set(stopwords.words('english'))]\n",
        "    sentences[i]=' '.join(words)"
      ],
      "execution_count": null,
      "outputs": []
    },
    {
      "cell_type": "code",
      "metadata": {
        "execution": {
          "iopub.status.busy": "2021-05-22T03:58:15.447643Z",
          "iopub.execute_input": "2021-05-22T03:58:15.447950Z",
          "iopub.status.idle": "2021-05-22T03:58:15.453362Z",
          "shell.execute_reply.started": "2021-05-22T03:58:15.447923Z",
          "shell.execute_reply": "2021-05-22T03:58:15.452677Z"
        },
        "trusted": true,
        "id": "PLmtu_oaxkta",
        "outputId": "e3805f4b-9551-4c78-c4cf-4ed1c41ef8eb"
      },
      "source": [
        "sentences"
      ],
      "execution_count": null,
      "outputs": [
        {
          "output_type": "execute_result",
          "data": {
            "text/plain": [
              "['I three vision india .',\n",
              " 'In 3000 year histori peopl world come invad us , captur land , conquer mind .',\n",
              " 'from alexand onward greek , turk , mogul , portugues , british , french , dutch , came loot us , took .',\n",
              " 'yet done nation .',\n",
              " 'We conquer anyon .',\n",
              " 'We grab land , cultur histori tri enforc way life .',\n",
              " 'whi ?',\n",
              " 'becaus respect freedom other .',\n",
              " 'that first vision freedom .',\n",
              " 'I believ india got first vision 1857 , start war independ .',\n",
              " 'It freedom must protect nurtur build .',\n",
              " 'If free , one respect us.w 10 percent growth rate area .',\n",
              " 'our poverti level fall .',\n",
              " 'our achiev global recognis today .',\n",
              " 'yet lack self-confid see develop nation , self-reli self-assur .',\n",
              " 'isn ’ incorrect ?',\n",
              " 'MY second vision india develop .',\n",
              " 'for fifti year develop nation .',\n",
              " 'It time see develop nation .',\n",
              " 'We among top five nation world term gdp.i third vision .',\n",
              " 'india must stand world .',\n",
              " 'becaus I believ unless india stand world , one respect us .',\n",
              " 'onli strength respect strength .',\n",
              " 'We must strong militari power also econom power .',\n",
              " 'both must go hand-in-hand .',\n",
              " 'My good fortun work three great mind .',\n",
              " 'dr.vikram sarabhai , dept .',\n",
              " 'space , professor satish dhawan , succeed dr. brahm prakash , father nuclear materi .',\n",
              " 'I lucki work three close consid great opportun life.i hyderabad give lectur , 14 year-old girl ask autograph .',\n",
              " 'I ask goal life .',\n",
              " 'she repli : I want live develop india .',\n",
              " 'for , I build develop india .',\n",
              " 'you must proclaim india underdevelop nation ; highli develop nation .']"
            ]
          },
          "metadata": {
            "tags": []
          },
          "execution_count": 21
        }
      ]
    },
    {
      "cell_type": "code",
      "metadata": {
        "execution": {
          "iopub.status.busy": "2021-05-22T03:58:21.980670Z",
          "iopub.execute_input": "2021-05-22T03:58:21.981111Z",
          "iopub.status.idle": "2021-05-22T03:58:21.985947Z",
          "shell.execute_reply.started": "2021-05-22T03:58:21.981080Z",
          "shell.execute_reply": "2021-05-22T03:58:21.985285Z"
        },
        "trusted": true,
        "id": "NoQ0VMdKxkth",
        "outputId": "f4df18d1-52f6-4f77-d2fd-a0962d94ba7a"
      },
      "source": [
        "word"
      ],
      "execution_count": null,
      "outputs": [
        {
          "output_type": "execute_result",
          "data": {
            "text/plain": [
              "['must',\n",
              " 'proclaim',\n",
              " 'india',\n",
              " 'underdevelop',\n",
              " 'nation',\n",
              " ';',\n",
              " 'highli',\n",
              " 'develop',\n",
              " 'nation',\n",
              " '.']"
            ]
          },
          "metadata": {
            "tags": []
          },
          "execution_count": 22
        }
      ]
    },
    {
      "cell_type": "code",
      "metadata": {
        "id": "RucZPJ1txktj"
      },
      "source": [
        ""
      ],
      "execution_count": null,
      "outputs": []
    }
  ]
}