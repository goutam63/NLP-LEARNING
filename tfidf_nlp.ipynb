{
  "nbformat": 4,
  "nbformat_minor": 0,
  "metadata": {
    "kernelspec": {
      "language": "python",
      "display_name": "Python 3",
      "name": "python3"
    },
    "language_info": {
      "name": "python",
      "version": "3.7.9",
      "mimetype": "text/x-python",
      "codemirror_mode": {
        "name": "ipython",
        "version": 3
      },
      "pygments_lexer": "ipython3",
      "nbconvert_exporter": "python",
      "file_extension": ".py"
    },
    "colab": {
      "name": "tfidf-nlp.ipynb",
      "provenance": [],
      "include_colab_link": true
    }
  },
  "cells": [
    {
      "cell_type": "markdown",
      "metadata": {
        "id": "view-in-github",
        "colab_type": "text"
      },
      "source": [
        "<a href=\"https://colab.research.google.com/github/goutam63/NLP-LEARNING/blob/main/tfidf_nlp.ipynb\" target=\"_parent\"><img src=\"https://colab.research.google.com/assets/colab-badge.svg\" alt=\"Open In Colab\"/></a>"
      ]
    },
    {
      "cell_type": "code",
      "metadata": {
        "_uuid": "8f2839f25d086af736a60e9eeb907d3b93b6e0e5",
        "_cell_guid": "b1076dfc-b9ad-4769-8c92-a6c4dae69d19",
        "execution": {
          "iopub.status.busy": "2021-05-22T04:27:24.307056Z",
          "iopub.execute_input": "2021-05-22T04:27:24.307506Z",
          "iopub.status.idle": "2021-05-22T04:27:24.312716Z",
          "shell.execute_reply.started": "2021-05-22T04:27:24.307479Z",
          "shell.execute_reply": "2021-05-22T04:27:24.310650Z"
        },
        "trusted": true,
        "id": "gAQ839NyvdtP"
      },
      "source": [
        "import nltk\n",
        "from nltk.stem import PorterStemmer\n",
        "from nltk.stem import WordNetLemmatizer\n",
        "from nltk.corpus import stopwords"
      ],
      "execution_count": null,
      "outputs": []
    },
    {
      "cell_type": "code",
      "metadata": {
        "execution": {
          "iopub.status.busy": "2021-05-22T04:27:31.960321Z",
          "iopub.execute_input": "2021-05-22T04:27:31.960867Z",
          "iopub.status.idle": "2021-05-22T04:27:31.965327Z",
          "shell.execute_reply.started": "2021-05-22T04:27:31.960841Z",
          "shell.execute_reply": "2021-05-22T04:27:31.964755Z"
        },
        "trusted": true,
        "id": "n5syC_L7vdtg"
      },
      "source": [
        "paragrapha=\"I have three visions for India. In 3000 years of our history people from all over the world have come and invaded us, captured our lands, conquered our minds. From Alexander onwards the Greeks, the Turks, the Moguls, the Portuguese, the British, the French, the Dutch, all of them came and looted us, took over what was ours. Yet we have not done this to any other nation. We have not conquered anyone. We have not grabbed their land, their culture and their history and tried to enforce our way of life on them. Why? Because we respect the freedom of others. That is why my FIRST VISION is that of FREEDOM. I believe that India got its first vision of this in 1857, when we started the war of Independence. It is this freedom that we must protect and nurture and build on. If we are not free, no one will respect us.We have 10 percent growth rate in most areas. Our poverty levels are falling. Our achievements are being globally recognised today. Yet we lack the self-confidence to see ourselves as a developed nation, self-reliant and self-assured. Isn’t this incorrect? MY SECOND VISION for India is DEVELOPMENT. For fifty years we have been a developing nation. It is time we see ourselves as a developed nation. We are among top five nations in the world in terms of GDP.I have a THIRD VISION. India must stand up to the world. Because I believe that unless India stands up to the world, no one will respect us. Only strength respects strength. We must be strong not only as a military power but also as an economic power. Both must go hand-in-hand. My good fortune was to have worked with three great minds. Dr.Vikram Sarabhai, of the Dept. of Space, Professor Satish Dhawan, who succeeded him and Dr. Brahm Prakash, father of nuclear material. I was lucky to have worked with all three of them closely and consider this the great opportunity of my life.I was in Hyderabad giving this lecture, when a 14 year-old girl asked me for my autograph. I asked her what her goal in life is. She replied: I want to live in a developed India. For her, you and I will have to build this developed India. You must proclaim India is not an underdeveloped nation; it is a highly developed nation.\""
      ],
      "execution_count": null,
      "outputs": []
    },
    {
      "cell_type": "code",
      "metadata": {
        "execution": {
          "iopub.status.busy": "2021-05-22T04:38:25.835509Z",
          "iopub.execute_input": "2021-05-22T04:38:25.835867Z",
          "iopub.status.idle": "2021-05-22T04:38:25.840132Z",
          "shell.execute_reply.started": "2021-05-22T04:38:25.835838Z",
          "shell.execute_reply": "2021-05-22T04:38:25.839310Z"
        },
        "trusted": true,
        "id": "DTpg00tivdtj"
      },
      "source": [
        "ps=PorterStemmer()\n",
        "wn=WordNetLemmatizer()"
      ],
      "execution_count": null,
      "outputs": []
    },
    {
      "cell_type": "code",
      "metadata": {
        "execution": {
          "iopub.status.busy": "2021-05-22T04:32:18.873416Z",
          "iopub.execute_input": "2021-05-22T04:32:18.873734Z",
          "iopub.status.idle": "2021-05-22T04:32:18.899617Z",
          "shell.execute_reply.started": "2021-05-22T04:32:18.873708Z",
          "shell.execute_reply": "2021-05-22T04:32:18.897911Z"
        },
        "trusted": true,
        "id": "URY7CpMDvdtu"
      },
      "source": [
        "sentences=nltk.sent_tokenize(paragrapha)"
      ],
      "execution_count": null,
      "outputs": []
    },
    {
      "cell_type": "code",
      "metadata": {
        "execution": {
          "iopub.status.busy": "2021-05-22T04:40:21.753339Z",
          "iopub.execute_input": "2021-05-22T04:40:21.753655Z",
          "iopub.status.idle": "2021-05-22T04:40:21.769606Z",
          "shell.execute_reply.started": "2021-05-22T04:40:21.753631Z",
          "shell.execute_reply": "2021-05-22T04:40:21.768562Z"
        },
        "trusted": true,
        "id": "_uF4JHN_vdtw"
      },
      "source": [
        "import re\n",
        "corpus=[]\n",
        "for i in range(len(sentences)):\n",
        "    review=re.sub('[a-zA-Z]',' ',sentences[i])\n",
        "    review=review.lower()\n",
        "    review=review.split()\n",
        "    review=[wn.lemmatize(word) for word in review if not word in set(stopwords.words('english'))]\n",
        "    review=' '.join(review)\n",
        "    corpus.append(review)\n",
        "    "
      ],
      "execution_count": null,
      "outputs": []
    },
    {
      "cell_type": "code",
      "metadata": {
        "execution": {
          "iopub.status.busy": "2021-05-22T04:48:30.773131Z",
          "iopub.execute_input": "2021-05-22T04:48:30.773602Z",
          "iopub.status.idle": "2021-05-22T04:48:30.793669Z",
          "shell.execute_reply.started": "2021-05-22T04:48:30.773575Z",
          "shell.execute_reply": "2021-05-22T04:48:30.792668Z"
        },
        "trusted": true,
        "id": "liwuqKVcvdty"
      },
      "source": [
        "from sklearn.feature_extraction.text import TfidfVectorizer\n",
        "cv=TfidfVectorizer()\n",
        "X=cv.fit_transform(corpus).toarray()"
      ],
      "execution_count": null,
      "outputs": []
    },
    {
      "cell_type": "code",
      "metadata": {
        "execution": {
          "iopub.status.busy": "2021-05-22T04:48:39.462038Z",
          "iopub.execute_input": "2021-05-22T04:48:39.462460Z",
          "iopub.status.idle": "2021-05-22T04:48:39.472900Z",
          "shell.execute_reply.started": "2021-05-22T04:48:39.462405Z",
          "shell.execute_reply": "2021-05-22T04:48:39.471111Z"
        },
        "trusted": true,
        "id": "L5uEdeZKvdtz",
        "outputId": "0f365f96-86e5-42be-e05d-2644983471aa"
      },
      "source": [
        "X"
      ],
      "execution_count": null,
      "outputs": [
        {
          "output_type": "execute_result",
          "data": {
            "text/plain": [
              "array([[0., 0., 0., 0.],\n",
              "       [0., 0., 0., 1.],\n",
              "       [0., 0., 0., 0.],\n",
              "       [0., 0., 0., 0.],\n",
              "       [0., 0., 0., 0.],\n",
              "       [0., 0., 0., 0.],\n",
              "       [0., 0., 0., 0.],\n",
              "       [0., 0., 0., 0.],\n",
              "       [0., 0., 0., 0.],\n",
              "       [0., 0., 1., 0.],\n",
              "       [0., 0., 0., 0.],\n",
              "       [1., 0., 0., 0.],\n",
              "       [0., 0., 0., 0.],\n",
              "       [0., 0., 0., 0.],\n",
              "       [0., 0., 0., 0.],\n",
              "       [0., 0., 0., 0.],\n",
              "       [0., 0., 0., 0.],\n",
              "       [0., 0., 0., 0.],\n",
              "       [0., 0., 0., 0.],\n",
              "       [0., 0., 0., 0.],\n",
              "       [0., 0., 0., 0.],\n",
              "       [0., 0., 0., 0.],\n",
              "       [0., 0., 0., 0.],\n",
              "       [0., 0., 0., 0.],\n",
              "       [0., 0., 0., 0.],\n",
              "       [0., 0., 0., 0.],\n",
              "       [0., 0., 0., 0.],\n",
              "       [0., 0., 0., 0.],\n",
              "       [0., 1., 0., 0.],\n",
              "       [0., 0., 0., 0.],\n",
              "       [0., 0., 0., 0.],\n",
              "       [0., 0., 0., 0.],\n",
              "       [0., 0., 0., 0.]])"
            ]
          },
          "metadata": {
            "tags": []
          },
          "execution_count": 18
        }
      ]
    },
    {
      "cell_type": "code",
      "metadata": {
        "id": "2vcXq3Uovdt5"
      },
      "source": [
        ""
      ],
      "execution_count": null,
      "outputs": []
    }
  ]
}